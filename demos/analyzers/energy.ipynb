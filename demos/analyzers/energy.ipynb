{
 "cells": [
  {
   "cell_type": "code",
   "execution_count": 1,
   "metadata": {
    "collapsed": true,
    "pycharm": {
     "is_executing": false
    }
   },
   "outputs": [],
   "source": [
    "from energy import parse_energy\n",
    "import os\n",
    "current_path = '/Users/mag0a/Desktop/Github/FLinMEN/ns-3-allinone/ns-3-dev/contrib/distributed-ml-test/demos/analyzers'"
   ]
  },
  {
   "cell_type": "code",
   "execution_count": 2,
   "outputs": [],
   "source": [
    "def sum_data(data, acc):\n",
    "    \n",
    "    return sum([data_dict['value'][-1] for data_dict in data])\n",
    "\n",
    "for nCells in [6, 12, 18]:\n",
    "    local_epochs = 1\n",
    "    batch_size = 128\n",
    "    error_rate = 0\n",
    "    nActivePerCell = 6\n",
    "    \n",
    "    record_prefix = \"-local_epochs-\" + str(local_epochs) + \"-batch_size-\" + str(batch_size) + \"-error_rate-\" + str(error_rate) + \"-nActivePerCell-\" + str(nActivePerCell)\n",
    "    \n",
    "    trace_dir = os.path.join(current_path, \"../saved_dir/outputs-\"+nCells+\"/trace\"+record_prefix)\n",
    "    \n",
    "    data = parse_energy(trace_dir)\n",
    "    "
   ],
   "metadata": {
    "collapsed": false,
    "pycharm": {
     "name": "#%%\n",
     "is_executing": false
    }
   }
  },
  {
   "cell_type": "code",
   "execution_count": 3,
   "outputs": [
    {
     "name": "stdout",
     "text": [
      "80.16\n79.58\n79.448\n79.36\n79.315\n79.615\n"
     ],
     "output_type": "stream"
    }
   ],
   "source": [
    "for data_dict in data:\n",
    "    print(data_dict['value'][-1])"
   ],
   "metadata": {
    "collapsed": false,
    "pycharm": {
     "name": "#%%\n",
     "is_executing": false
    }
   }
  },
  {
   "cell_type": "code",
   "execution_count": 4,
   "outputs": [
    {
     "data": {
      "text/plain": "6"
     },
     "metadata": {},
     "output_type": "execute_result",
     "execution_count": 4
    }
   ],
   "source": [
    "len(data)#%%\n",
    "\n"
   ],
   "metadata": {
    "collapsed": false,
    "pycharm": {
     "name": "#%%\n",
     "is_executing": false
    }
   }
  },
  {
   "cell_type": "code",
   "execution_count": null,
   "outputs": [],
   "source": [
    "\n"
   ],
   "metadata": {
    "collapsed": false,
    "pycharm": {
     "name": "#%%\n"
    }
   }
  }
 ],
 "metadata": {
  "language_info": {
   "codemirror_mode": {
    "name": "ipython",
    "version": 2
   },
   "file_extension": ".py",
   "mimetype": "text/x-python",
   "name": "python",
   "nbconvert_exporter": "python",
   "pygments_lexer": "ipython2",
   "version": "2.7.6"
  },
  "kernelspec": {
   "name": "python3",
   "language": "python",
   "display_name": "Python 3"
  },
  "pycharm": {
   "stem_cell": {
    "cell_type": "raw",
    "source": [],
    "metadata": {
     "collapsed": false
    }
   }
  }
 },
 "nbformat": 4,
 "nbformat_minor": 0
}
